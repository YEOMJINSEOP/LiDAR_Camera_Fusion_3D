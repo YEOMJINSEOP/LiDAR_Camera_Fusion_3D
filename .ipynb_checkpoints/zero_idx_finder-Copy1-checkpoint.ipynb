{
 "cells": [
  {
   "cell_type": "code",
   "execution_count": 120,
   "id": "99f4a87d-393e-473c-aacd-804bc0d98542",
   "metadata": {},
   "outputs": [],
   "source": [
    "import torch\n",
    "import numpy as np \n",
    "import sys\n",
    "import os, fnmatch\n",
    "import yaml\n",
    "from tqdm.notebook import trange, tqdm\n",
    "np.set_printoptions(threshold=sys.maxsize)\n",
    "\n",
    "def find(pattern, path):\n",
    "    result = []\n",
    "    for _, _, files in os.walk(path):\n",
    "        for name in files:\n",
    "            if fnmatch.fnmatch(name, pattern):\n",
    "                result.append(name)\n",
    "    return result"
   ]
  },
  {
   "cell_type": "code",
   "execution_count": null,
   "id": "c16591bd-5595-4829-ba33-1f62ba432247",
   "metadata": {},
   "outputs": [
    {
     "name": "stdout",
     "output_type": "stream",
     "text": [
      "cur seq: 8\n"
     ]
    },
    {
     "data": {
      "application/vnd.jupyter.widget-view+json": {
       "model_id": "b41b28bbd858434085553e13f6d4528a",
       "version_major": 2,
       "version_minor": 0
      },
      "text/plain": [
       "  0%|          | 0/4071 [00:00<?, ?it/s]"
      ]
     },
     "metadata": {},
     "output_type": "display_data"
    }
   ],
   "source": [
    "seq_root = '/home/poscoict/Desktop/c3d_semKITTI_refined/dataset/sequences'\n",
    "seq_dir_root = os.listdir(seq_root)\n",
    "seq_dir_root.sort()\n",
    "# for i in range(0, 11):\n",
    "for i in range(8, 9):\n",
    "    print(f\"cur seq: {i}\")\n",
    "    seq_dir = seq_dir_root[i] \n",
    "\n",
    "    uvs_root = os.path.join(seq_root, seq_dir, 'uvs')\n",
    "    label_root = os.path.join(seq_root, seq_dir, 'labels')\n",
    "    img_fea_root = os.path.join(seq_root, seq_dir, 'img_fea_256') \n",
    "\n",
    "    uvs_dirs = find(\"*.npy\", uvs_root)\n",
    "    label_dirs = find(\"*.npy\", label_root) \n",
    "    img_fea_dirs = find(\"*.pt\", img_fea_root)\n",
    "    \n",
    "    uvs_dirs.sort()\n",
    "    label_dirs.sort()\n",
    "    img_fea_dirs.sort()\n",
    "\n",
    "    with open('/home/poscoict/Desktop/Cylinder3D-F-updated-CUDA/config/label_mapping/semantic-kitti.yaml', 'r') as file:\n",
    "            label_data = yaml.safe_load(file)\n",
    "        \n",
    "    label_class = label_data['labels']\n",
    "    class_ratios = {cls: [] for cls in label_class.values()} # for averaging ratios per class\n",
    "    \n",
    "    for idx in trange(len(uvs_dirs)):\n",
    "        uvs_path = os.path.join(uvs_root, uvs_dirs[idx])\n",
    "        label_path = os.path.join(label_root, label_dirs[idx]) \n",
    "        img_fea_path = os.path.join(img_fea_root, img_fea_dirs[idx])\n",
    "\n",
    "        uvs = np.load(uvs_path).astype(np.int32)\n",
    "        label_tensor = np.load(label_path).astype(np.int32)        \n",
    "        img_feas = torch.load(img_fea_path).cpu().numpy()\n",
    "\n",
    "        class_results = {cls: {'total_uv': 0, 'zero_img_fea_uv': 0} for cls in label_class.values()}\n",
    "        \n",
    "        for label, uv, img_fea in zip(label_tensor, uvs, img_feas):\n",
    "            label_idx = label.item()\n",
    "            if label_idx not in label_class.keys():\n",
    "                label_idx = 1\n",
    "            cls = label_class[label_idx]\n",
    "            class_results[cls]['total_uv'] += 1\n",
    "            if np.all(img_fea == 0):\n",
    "                class_results[cls]['zero_img_fea_uv'] += 1\n",
    "\n",
    "        for cls, results in class_results.items():\n",
    "            total_uv = results['total_uv']\n",
    "            zero_img_fea_uv = results['zero_img_fea_uv']\n",
    "            if total_uv > 0:\n",
    "                ratio = (total_uv - zero_img_fea_uv) / total_uv\n",
    "                if ratio < 1.0:\n",
    "                    class_ratios[cls].append(ratio)\n",
    "                    # print(f\"seq: {i}, idx: {idx}\\nClass: {cls}, {total_uv - zero_img_fea_uv}/{total_uv}, Ratio:{ratio}\")\n",
    "\n",
    "    for cls, results in class_ratios.items():\n",
    "        if len(results) > 0:\n",
    "            avg_ratio = sum(ratios) / len(ratios)\n",
    "            print(f\"Class:{cls}, Average Ratio: {avg_ratio}\")\n",
    "        \n",
    "            "
   ]
  },
  {
   "cell_type": "code",
   "execution_count": null,
   "id": "ad40101b-4a70-4c4a-9db0-de25e0604b9f",
   "metadata": {},
   "outputs": [],
   "source": []
  },
  {
   "cell_type": "code",
   "execution_count": null,
   "id": "b32a1e8c-77e2-4101-a6f5-9a637ac9f674",
   "metadata": {},
   "outputs": [],
   "source": []
  }
 ],
 "metadata": {
  "kernelspec": {
   "display_name": "Python 3 (ipykernel)",
   "language": "python",
   "name": "python3"
  },
  "language_info": {
   "codemirror_mode": {
    "name": "ipython",
    "version": 3
   },
   "file_extension": ".py",
   "mimetype": "text/x-python",
   "name": "python",
   "nbconvert_exporter": "python",
   "pygments_lexer": "ipython3",
   "version": "3.8.16"
  }
 },
 "nbformat": 4,
 "nbformat_minor": 5
}
